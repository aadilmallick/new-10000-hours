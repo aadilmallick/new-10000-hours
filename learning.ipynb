{
 "cells": [
  {
   "cell_type": "markdown",
   "metadata": {},
   "source": [
    "# Styling the page\n",
    "\n"
   ]
  },
  {
   "cell_type": "markdown",
   "metadata": {},
   "source": [
    "# Adding Google OAuth"
   ]
  },
  {
   "cell_type": "markdown",
   "metadata": {},
   "source": [
    "## Configuring Google Cloud\n",
    "\n",
    "1. Create a new project in https://console.cloud.google.com/\n",
    "2. Configure consent screen.\n",
    "    1. Select external mode\n",
    "    2. Fill out app name, user support email, and developer contact info.\n",
    "    3. Skip scopes. scopes are not needed for simple authentication.\n",
    "    4. Add test users\n",
    "3. Go to credentials -> create credentials -> create OAuth client id\n",
    "    1. Add both http://localhost and http://localhost:3000 for both the authorized JavaScript Origins and Authorized redirect URIs."
   ]
  },
  {
   "cell_type": "markdown",
   "metadata": {},
   "source": [
    "## Configuring React \n",
    "\n",
    "1. Go into `index.html` and add this script: \n",
    "```html\n",
    "<script src=\"https://accounts.google.com/gsi/client\" defer async></script>\n",
    "```\n",
    "\n",
    "The script above allows you to to get access to implementing google variavles in JavaScript and HTML. It gives access to the global `google` variable in JS.\n"
   ]
  },
  {
   "cell_type": "markdown",
   "metadata": {},
   "source": [
    "### Creating environment variables\n",
    "\n",
    "Create environment variables in a `.env` file. Make sure to prefix all variables in an env file with the `REACT_APP` prefix, so that react will know that it should use those environment variables. \n",
    "\n",
    "- Variables can be directly accessed through the `process.env` variable.\n",
    "- Whenever you add new environment variables, you must restart your server to reflect the changes.\n",
    "\n",
    "1. Create a `.env` file \n",
    "2. Add variables and prefix with `REACT_APP`. \n",
    "3. Restart server."
   ]
  },
  {
   "cell_type": "code",
   "execution_count": null,
   "metadata": {},
   "outputs": [],
   "source": [
    "REACT_APP_CLIENT_ID = 212521233525-0p0onok0cqtvpal0130chl7hq8viltqp.apps.googleusercontent.com\n",
    "REACT_APP_CLIENT_SECRET = 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"
   ]
  },
  {
   "cell_type": "markdown",
   "metadata": {},
   "source": [
    "### Adding google button\n",
    "\n",
    "To add a sign in google button, the process is defined by these three steps: \n",
    "\n",
    "1. Add the `/* global google */` comment so that you get access to the `google` object.\n",
    "1. initialize the sign-in process by providing the client id and what happens after the user signs in by clicking on the button. \n",
    "2. Render the button by accessing an element and applying the styling.\n",
    "3. Optionally add the one-tap sign in prompt.\n",
    "\n",
    "> initialization\n",
    "\n",
    "```javascript\n",
    "google.accounts.id.initialize({\n",
    "      client_id: process.env.REACT_APP_CLIENT_ID,\n",
    "      callback: handleCredentialResponse,\n",
    "});\n",
    "```\n",
    "\n",
    "Using the `google.accounts.id.initialize()` function, pass in an object with two keys: \n",
    "\n",
    "- `client_id` : the google oauth client ID that you got from the google cloud setup. \n",
    "- `callback` : a function that takes in a `response` object, which represents the succussful user login transaction.\n",
    "\n",
    "This sets up the entire sign-in process. All sign-in methods will employ the client id and the specified callback. \n",
    "\n",
    "> Button rendering\n",
    "\n",
    "```js\n",
    "google.accounts.id.renderButton(\n",
    "        document.getElementById(\"buttonDiv\"),\n",
    "        { theme: \"outline\", size: \"large\" } \n",
    ");\n",
    "```\n",
    "\n",
    "The `google.accounts.id.renderButton()` function takes in two arguments: \n",
    "\n",
    "1. The element to choose to style as the google button. This should be an empty div. \n",
    "2. An object that describes how google shoudl style the button.\n",
    "\n",
    "> Google one-tap-sign-in \n",
    "\n",
    "```js\n",
    "google.accounts.id.prompt();  \n",
    "```\n",
    "\n",
    "This simple function will show the one-tap-sign-in prompt, which is still linked to the same callback that you defined in the prior initialization.\n",
    "\n",
    "> callback \n",
    "\n",
    "```js\n",
    "const handleCredentialResponse = (response) => {\n",
    "    console.log(\"Encoded JWT ID token: \" + response.credential);\n",
    "    const user = jwtDecode(response.credential);\n",
    "};\n",
    "```\n",
    "\n",
    "- The callback runs after the user successfully signs in, and accepts a `response` parameter.\n",
    "- The JWT containing the user data is stored on `response.credential`\n",
    "- Install a JWT decoder using `npm i jwt-decode` and decode the token using the `jwtDecode()` function. This returns a user object.\n",
    "      ```js\n",
    "      import jwtDecode from \"jwt-decode\";\n",
    "      ```"
   ]
  },
  {
   "cell_type": "code",
   "execution_count": null,
   "metadata": {
    "vscode": {
     "languageId": "javascript"
    }
   },
   "outputs": [],
   "source": [
    "const handleCredentialResponse = (response) => {\n",
    "    console.log(\"Encoded JWT ID token: \" + response.credential);\n",
    "    const { email, name, picture } = jwtDecode(response.credential);\n",
    "    login({ email, name, picture });\n",
    "  };"
   ]
  },
  {
   "cell_type": "code",
   "execution_count": null,
   "metadata": {
    "vscode": {
     "languageId": "javascript"
    }
   },
   "outputs": [],
   "source": [
    "useEffect(() => {\n",
    "    /* global google */\n",
    "    \n",
    "    google.accounts.id.initialize({\n",
    "      client_id: process.env.REACT_APP_CLIENT_ID,\n",
    "      callback: handleCredentialResponse,\n",
    "    });\n",
    "    \n",
    "      google.accounts.id.renderButton(\n",
    "        document.getElementById(\"buttonDiv\"),\n",
    "        { theme: \"outline\", size: \"large\" } \n",
    "      );\n",
    "      google.accounts.id.prompt();  \n",
    "  });"
   ]
  },
  {
   "cell_type": "markdown",
   "metadata": {},
   "source": [
    "### Handling login logout flow\n",
    "\n",
    "The easiest way to handle auth flow is to have a global context dedicated for authentication. The main idea is that when the `user` is null, you are logged out, and when the `user` is not null, you are logged in. There are three parts to the context: \n",
    "\n",
    "1. user state \n",
    "2. login method \n",
    "3. logout method \n",
    "\n",
    "> user state \n",
    "\n",
    "The user is the information we get back from the decoded jwt token. Else, when are not logged in, it is null. \n",
    "\n",
    "- When the user is logged in (not null), show the logout button.\n",
    "- When the user is logged out (null), do not show the progress section. \n",
    "\n",
    "> login\n",
    "\n",
    "The purpose of the login method is to set the user and to hide the sign-in button.\n",
    "\n",
    "- The login method takes in information and sets the user using `setUser()`. \n",
    "- Hide the sign-in button using `document.getElementById(\"buttonDiv\").hidden = true`.\n",
    "\n",
    "> logout \n",
    "\n",
    "The purpose of the logout method is to set the user to null and to show the sign-in button.\n",
    "\n",
    "- Do `setUser(null)` \n",
    "- Show the sign-in button using `document.getElementById(\"buttonDiv\").hidden = true`. "
   ]
  },
  {
   "cell_type": "code",
   "execution_count": null,
   "metadata": {
    "vscode": {
     "languageId": "javascript"
    }
   },
   "outputs": [],
   "source": [
    "import React from \"react\";\n",
    "export const AuthContext = React.createContext({});\n",
    "\n",
    "export const AuthContextProvider = (props) => {\n",
    "  const [user, setUser] = React.useState(null);\n",
    "\n",
    "  const login = ({ email, name, picture }) => {\n",
    "    setUser({ email: email.substring(0, email.indexOf(\"@\")), name, picture });\n",
    "    document.getElementById(\"buttonDiv\").hidden = true;\n",
    "  };\n",
    "\n",
    "  const logout = () => {\n",
    "    setUser(null);\n",
    "    document.getElementById(\"buttonDiv\").hidden = false;\n",
    "  };\n",
    "\n",
    "  return (\n",
    "    <AuthContext.Provider value={{ user, login, logout }}>\n",
    "      {props.children}\n",
    "    </AuthContext.Provider>\n",
    "  );\n",
    "};"
   ]
  },
  {
   "cell_type": "markdown",
   "metadata": {},
   "source": [
    "# Making a modal"
   ]
  },
  {
   "cell_type": "markdown",
   "metadata": {},
   "source": [
    "## Modal structure overview\n",
    "\n",
    "1. Create a modal component that renders using react portals. \n",
    "2. Have the modal component take in a state prop that controls its visibility. \n",
    "3. style the modal and modal overlay with a high Z-index so that they appear above all elements."
   ]
  },
  {
   "cell_type": "markdown",
   "metadata": {},
   "source": [
    "## Modal logic \n",
    "\n",
    "We can control the visibility of the modal using boolean state. We make the modal accept two props: \n",
    "\n",
    "1. The `isOpen` prop, which is the boolean state of the modal visibility. \n",
    "2. The `onCloseModal` prop, which is a function that sets the state of modal visibility to false and thus closes the modal. \n",
    "\n",
    "- When the `modalIsOpen` prop is true, our modal should appear, and when it is false, it should be hidden. \n",
    "- Elsewhere in our code, like on a button, we can add the function to open the modal by changing the visibility state to true."
   ]
  },
  {
   "cell_type": "code",
   "execution_count": null,
   "metadata": {
    "vscode": {
     "languageId": "javascript"
    }
   },
   "outputs": [],
   "source": [
    "const Dummy = () => {\n",
    "    const [modalIsOpen, setModalIsOpen] = useState(false);\n",
    "    return (\n",
    "        <>\n",
    "            <Modal\n",
    "            isOpen={modalIsOpen}\n",
    "            onCloseModal={() => setModalIsOpen(false)}\n",
    "            />\n",
    "            <MyContent>\n",
    "                <OpenModalButton onClick={() => setModalIsOpen(true)}/> \n",
    "            </MyContent>\n",
    "        </>\n",
    "    );\n",
    "}"
   ]
  },
  {
   "cell_type": "markdown",
   "metadata": {},
   "source": [
    "## Using React portals \n",
    "\n",
    "React portals are a way of rendering HTML content outside of the root div in `index.html`. We need React Portals for modals because due to the CSS laws, any subcontent inside an element is subject to that same parent's stacking index. What that means is that if you're rendering a modal inside some parent element with a Z-index of 0, then no matter what, that modal will never have a Z-index higher than 0. \n",
    "\n",
    "```js\n",
    "ReactDOM.createPortal(<ComponentToRender /> , elementToRenderIn)\n",
    "```\n",
    "\n",
    "The `ReactDOM.createPortal()` method takes in two arguments: \n",
    "\n",
    "1. The component to render \n",
    "2. The HTML element to render the component in. For this, go to `index.html` and manually add some `<div>` outside of the root div."
   ]
  },
  {
   "cell_type": "code",
   "execution_count": null,
   "metadata": {
    "vscode": {
     "languageId": "javascript"
    }
   },
   "outputs": [],
   "source": [
    "import ReactDOM from \"react-dom\";\n",
    "\n",
    "const Modal = ({ isOpen, onCloseModal }) => {\n",
    "    if (!isOpen) {\n",
    "      return null;\n",
    "    }\n",
    "  \n",
    "    return (\n",
    "      <>\n",
    "        {ReactDOM.createPortal(\n",
    "          <ModalContent onCloseModal={onCloseModal} />,\n",
    "          document.querySelector(\"#overlay-root\")\n",
    "        )}\n",
    "      </>\n",
    "    );\n",
    "  };"
   ]
  },
  {
   "cell_type": "markdown",
   "metadata": {},
   "source": [
    "## Modal Content Structure. \n",
    "\n",
    "```html\n",
    "<React.Fragment>\n",
    "    <div className=\"modal-overlay\"></div>\n",
    "    <div className=\"modal\">\n",
    "        <SomeContent />\n",
    "    </div>\n",
    "<React.Fragment/>\n",
    "```\n",
    "\n",
    "You are going to render two things: the modal overlay and the modal. \n",
    "\n",
    "- The modal overlay is the darkened background while the modal in on screen, signaling that the modal is the only active thing on the screen.\n",
    "- The modal is the actual modal."
   ]
  },
  {
   "cell_type": "code",
   "execution_count": null,
   "metadata": {
    "vscode": {
     "languageId": "javascript"
    }
   },
   "outputs": [],
   "source": [
    "const ModalContent = ({ onCloseModal }) => {\n",
    "  \n",
    "    return (\n",
    "      <>\n",
    "        <div className=\"modal-overlay\"></div>\n",
    "        <div className=\"modal\">\n",
    "          <SomeContent />\n",
    "        </div>\n",
    "      </>\n",
    "    );\n",
    "  };"
   ]
  },
  {
   "cell_type": "markdown",
   "metadata": {},
   "source": [
    "## Modal styling \n",
    "\n",
    "This is the styling you have to apply to both the modal and modal overlay for them to work correctly."
   ]
  },
  {
   "cell_type": "markdown",
   "metadata": {},
   "source": [
    "```css\n",
    ".modal {\n",
    "  position: fixed;\n",
    "  top: 50%;\n",
    "  left: 50%;\n",
    "  transform: translate(-50%, -50%);\n",
    "  background-color: gray;\n",
    "  padding: 3rem;\n",
    "  z-index: 1000;\n",
    "}\n",
    "```\n",
    "\n",
    "```css\n",
    ".modal-overlay {\n",
    "  position: fixed;\n",
    "  top: 0;\n",
    "  left: 0;\n",
    "  right: 0;\n",
    "  bottom: 0;\n",
    "  z-index: 999; \n",
    "  background-color: rgba($color: #000000, $alpha: 0.6);\n",
    "}\n",
    "```"
   ]
  },
  {
   "cell_type": "markdown",
   "metadata": {},
   "source": [
    "# Storing and handling data with Firebase"
   ]
  },
  {
   "cell_type": "markdown",
   "metadata": {},
   "source": [
    "## Firebase setup\n",
    "\n",
    "1. Create a new project in firebase \n",
    "2. Create a realtime database in test mode, where anyone can read or write. \n",
    "3. Copy the realtime database URL"
   ]
  },
  {
   "cell_type": "markdown",
   "metadata": {},
   "source": [
    "## Realtime Database Overview \n",
    "\n",
    "The entire structure is based on your url structure for API requests. Any subroute that you do becomes a collection, and with more nested routes, you can get more collections within collections. The collection that you create will end with a `.json`. Each piece of data in a collection is bound by a **firebase name**, which is a hashed ID.\n",
    "\n",
    "![](2022-10-12-20-20-24.png)\n",
    "\n",
    "- Collections are referenced by the route to get there, and then the collection name and `.json`. \n",
    "- Individual documents are referenced by the firebasename and then .json within the collection.\n",
    "\n",
    "> route structure \n",
    "\n",
    "```js\n",
    "const url = \"https://hours-896df-default-rtdb.firebaseio.com/\";\n",
    "const url1 = `${url}/goals.json`\n",
    "const url2 = `${url}/goals/${firebasename}.json` \n",
    "```\n",
    "\n",
    "- `url1` references the goals collection \n",
    "- `url2` references a specific document within the goals collection.\n",
    "\n",
    "> gotcha to look out for \n",
    "\n",
    "You cannot use emails as a collection name. Any collection name with a `.` or an `@` in it is not a valid collection name and will cause errors in the API requests.\n"
   ]
  },
  {
   "cell_type": "code",
   "execution_count": null,
   "metadata": {
    "vscode": {
     "languageId": "javascript"
    }
   },
   "outputs": [],
   "source": [
    "const url = \"https://hours-896df-default-rtdb.firebaseio.com/\";\n",
    "\n",
    "`${url}/goals/goal1.json`  // * references the goal1 collection in the goals collection."
   ]
  },
  {
   "cell_type": "markdown",
   "metadata": {},
   "source": [
    "## Fetching data\n",
    "\n",
    "To fetch all data from a collection, make a **GET** request to the specified collection url. The data returned is in the shape of a dictionary, with the keys being the firebase names, so you have to loop through the dictionary to access the values.\n",
    "\n",
    "![](2022-10-12-20-32-45.png)"
   ]
  },
  {
   "cell_type": "code",
   "execution_count": null,
   "metadata": {
    "vscode": {
     "languageId": "javascript"
    }
   },
   "outputs": [],
   "source": [
    "const fetchCards = async (email) => {\n",
    "    const response = await fetch(`${url}/goals/${email}.json`);\n",
    "    const data = await response.json();\n",
    "    const temp = [];\n",
    "    for (const key in data) {\n",
    "      temp.push(data[key]);\n",
    "    }\n",
    "    return temp;\n",
    "  };"
   ]
  },
  {
   "cell_type": "markdown",
   "metadata": {},
   "source": [
    "## Posting data\n",
    "\n",
    "To add data to a collection, simply make a **POST** request to the specified collection you want. Make sure that you are sending JSON data, however. \n",
    "\n",
    "1. Convert anything sent to JSON \n",
    "2. Add the `\"Content-Type\": \"application/json\"` headers to ensure JSON format for firebase."
   ]
  },
  {
   "cell_type": "code",
   "execution_count": null,
   "metadata": {
    "vscode": {
     "languageId": "javascript"
    }
   },
   "outputs": [],
   "source": [
    "const postCards = ({ currentHours, goalHours, title, id }, email) => {\n",
    "    fetch(`${url}/goals/${email}.json`, {\n",
    "      method: \"POST\",\n",
    "      body: JSON.stringify({ currentHours, goalHours, title, id }),\n",
    "      headers: {\n",
    "        \"Content-Type\": \"application/json\",\n",
    "      },\n",
    "    })\n",
    "      .then((response) => response.json())\n",
    "  };"
   ]
  },
  {
   "cell_type": "markdown",
   "metadata": {},
   "source": [
    "## Updating data\n",
    "\n",
    "To update data at a specific document, make sure you send a **PUT** request to the specified document url. Put the updated data in the body, which should be your entire data schema."
   ]
  },
  {
   "cell_type": "code",
   "execution_count": null,
   "metadata": {
    "vscode": {
     "languageId": "javascript"
    }
   },
   "outputs": [],
   "source": [
    "const updateCard = async (id, payload, email) => {\n",
    "    const { hoursWorked, minutesWorked} = payload;\n",
    "    const { firebaseName, card } = await findCardFromId(id, email);  // find the specified data and the firebase name associated with it.\n",
    "    card.currentHours += hoursWorked + Number((minutesWorked / 60).toFixed(1));\n",
    "    await fetch(`${url}/goals/${email}/${firebaseName}.json`, {\n",
    "      method: \"PUT\",\n",
    "      body: JSON.stringify({ ...card }),\n",
    "    });\n",
    "    return card;\n",
    "  };"
   ]
  },
  {
   "cell_type": "markdown",
   "metadata": {},
   "source": [
    "## Deleting data\n",
    "\n",
    "To delete a specified document node, simply make a **DELETE** request to document url."
   ]
  },
  {
   "cell_type": "code",
   "execution_count": null,
   "metadata": {
    "vscode": {
     "languageId": "javascript"
    }
   },
   "outputs": [],
   "source": [
    "const deleteCards = async (id, email) => {\n",
    "    const { firebaseName } = await findCardFromId(id, email);\n",
    "    await fetch(`${url}/goals/${email}/${firebaseName}.json`, {\n",
    "      method: \"DELETE\",\n",
    "    });\n",
    "    return id;\n",
    "  };"
   ]
  },
  {
   "cell_type": "markdown",
   "metadata": {},
   "source": [
    "# Various"
   ]
  },
  {
   "cell_type": "markdown",
   "metadata": {},
   "source": [
    "## Creating a progress bar\n",
    "\n",
    "```scss\n",
    ".progress {\n",
    "      height: 20px;\n",
    "      border-radius: 12px;\n",
    "      background-color: black;\n",
    "      padding-left: 1rem;\n",
    "      display: flex;\n",
    "      align-items: center;\n",
    "      border: 2px dotted $primary-color;\n",
    "      div {\n",
    "        background-color: red;\n",
    "        border-radius: 12px;\n",
    "      }\n",
    "    }\n",
    "```"
   ]
  },
  {
   "cell_type": "code",
   "execution_count": null,
   "metadata": {
    "vscode": {
     "languageId": "javascript"
    }
   },
   "outputs": [],
   "source": [
    "const ProgressBar = ({ currentHours, goalHours }) => {\n",
    "    return (\n",
    "      <div className=\"progress\">\n",
    "        <div\n",
    "          style={{ width: `${(currentHours / goalHours) * 100}%` }} \n",
    "        >\n",
    "          {(currentHours / goalHours) * 100}%\n",
    "        </div>\n",
    "      </div>\n",
    "    );\n",
    "  };"
   ]
  }
 ],
 "metadata": {
  "kernelspec": {
   "display_name": "Python 3.9.12 ('base')",
   "language": "python",
   "name": "python3"
  },
  "language_info": {
   "name": "python",
   "version": "3.9.12"
  },
  "orig_nbformat": 4,
  "vscode": {
   "interpreter": {
    "hash": "42eed9893f4207f75cdc74193046475496f71263a52163f69b046614a46de1fd"
   }
  }
 },
 "nbformat": 4,
 "nbformat_minor": 2
}
